{
  "nbformat": 4,
  "nbformat_minor": 0,
  "metadata": {
    "colab": {
      "provenance": []
    },
    "kernelspec": {
      "name": "python3",
      "display_name": "Python 3"
    },
    "language_info": {
      "name": "python"
    }
  },
  "cells": [
    {
      "cell_type": "markdown",
      "source": [
        "<h1><b>EXPERIMENT 7</b></h1>\n",
        "<hr><br>\n",
        "<h2>\n",
        "\n",
        "* **Information Gain:**\n",
        "Information Gain measures how much \"information\" a feature gives us about the target variable. It's often used in decision trees to split data.\n",
        "\n",
        "* **Chi-Square**: It measures the association between two categorical variables. It’s useful for testing if a feature is independent of the target.\n",
        "\n",
        "* **Entropy:** It measures the amount of uncertainty or impurity in a dataset. It’s used in decision trees to determine splits.\n",
        "\n",
        "</h2>"
      ],
      "metadata": {
        "id": "5u-WqYepT3yS"
      }
    },
    {
      "cell_type": "code",
      "execution_count": null,
      "metadata": {
        "id": "pwSgPn3vSupa"
      },
      "outputs": [],
      "source": [
        "from sklearn.feature_selection import mutual_info_classif\n",
        "import pandas as pd\n",
        "from scipy.stats import entropy\n",
        "import numpy as np\n",
        "from sklearn.feature_selection import chi2"
      ]
    },
    {
      "cell_type": "markdown",
      "source": [
        "* **Information Gain without parent entropy**\n",
        "\n"
      ],
      "metadata": {
        "id": "NsKhmteAVLpy"
      }
    },
    {
      "cell_type": "code",
      "source": [
        "df = pd.read_csv('mtcars.csv')"
      ],
      "metadata": {
        "id": "yKw0l68YeF9j"
      },
      "execution_count": null,
      "outputs": []
    },
    {
      "cell_type": "code",
      "source": [
        "X = df[['mpg', 'cyl']]\n",
        "y = df['hp']\n",
        "info_gain = mutual_info_classif(X, y)\n",
        "print(info_gain)"
      ],
      "metadata": {
        "colab": {
          "base_uri": "https://localhost:8080/"
        },
        "id": "89viO47SU1TL",
        "outputId": "9e13f111-5f5d-40f1-d633-660ff1f801f8"
      },
      "execution_count": null,
      "outputs": [
        {
          "output_type": "stream",
          "name": "stdout",
          "text": [
            "[1.21504272 1.2793299 ]\n"
          ]
        }
      ]
    },
    {
      "cell_type": "markdown",
      "source": [
        "* **CHI-SQUARE**"
      ],
      "metadata": {
        "id": "vHE5JsiYdF4_"
      }
    },
    {
      "cell_type": "code",
      "source": [
        "chi_scores, p_values = chi2(X, y)\n",
        "print(chi_scores)\n",
        "print(p_values)"
      ],
      "metadata": {
        "id": "LKS3ZbScd1CQ",
        "outputId": "f5878603-b5e1-4a06-8241-c3bee735000f",
        "colab": {
          "base_uri": "https://localhost:8080/"
        }
      },
      "execution_count": null,
      "outputs": [
        {
          "output_type": "stream",
          "name": "stdout",
          "text": [
            "[55.18447141 15.54882155]\n",
            "[6.64456551e-05 7.94441298e-01]\n"
          ]
        }
      ]
    },
    {
      "cell_type": "markdown",
      "source": [
        "* **PARENT ENTROPY**"
      ],
      "metadata": {
        "id": "37ZVkgBiWFiB"
      }
    },
    {
      "cell_type": "code",
      "source": [
        "y = df['vs']\n",
        "values, counts = np.unique(y, return_counts=True)\n",
        "probabilities = counts / len(y)\n",
        "ent = entropy(probabilities, base=2)\n",
        "print(f\"Entropy: {ent*100}%\")\n"
      ],
      "metadata": {
        "colab": {
          "base_uri": "https://localhost:8080/"
        },
        "id": "uIKPW5VXWHBT",
        "outputId": "dc79fc23-985e-49da-dbe1-adbc7c9a5901"
      },
      "execution_count": null,
      "outputs": [
        {
          "output_type": "stream",
          "name": "stdout",
          "text": [
            "Entropy: 98.86994082884975%\n"
          ]
        }
      ]
    },
    {
      "cell_type": "markdown",
      "source": [
        "* **Information Gain with the calulated entropy**"
      ],
      "metadata": {
        "id": "xgWwWmEnoQDw"
      }
    },
    {
      "cell_type": "code",
      "source": [
        "# Features (X) and target (y)\n",
        "X = df[['mpg', 'cyl']].values\n",
        "y = df['vs'].values"
      ],
      "metadata": {
        "id": "ACADMn9YoPvn"
      },
      "execution_count": null,
      "outputs": []
    },
    {
      "cell_type": "code",
      "source": [
        "# Calculating parent Entropy (S)\n",
        "values, counts = np.unique(y, return_counts=True)\n",
        "parent_entropy = entropy(counts / len(y), base=2)\n",
        "print(f\"Parent Entropy: {parent_entropy*100}%\")\n"
      ],
      "metadata": {
        "colab": {
          "base_uri": "https://localhost:8080/"
        },
        "id": "z8sDxrVwfHC_",
        "outputId": "c522edb4-edde-45a3-bd1d-6032fd6bb718"
      },
      "execution_count": null,
      "outputs": [
        {
          "output_type": "stream",
          "name": "stdout",
          "text": [
            "Parent Entropy: 0.9886994082884974\n"
          ]
        }
      ]
    },
    {
      "cell_type": "code",
      "source": [
        "X_feature = X[:, 0]\n",
        "\n",
        "# 2. Split Data Based on Feature X\n",
        "median_value = np.median(X_feature)\n",
        "\n",
        "# Subsets for X_feature <= median and X_feature > median\n",
        "y_left = y[X_feature <= median_value]\n",
        "y_right = y[X_feature > median_value]\n",
        "\n",
        "# Calculate the entropy of subsets\n",
        "values_left, counts_left = np.unique(y_left, return_counts=True)\n",
        "entropy_left = entropy(counts_left / len(y_left), base=2)\n",
        "\n",
        "values_right, counts_right = np.unique(y_right, return_counts=True)\n",
        "entropy_right = entropy(counts_right / len(y_right), base=2)\n",
        "\n",
        "print(f\"Entropy Left (<= median): {entropy_left}\")\n",
        "print(f\"Entropy Right (> median): {entropy_right}\")\n",
        "\n",
        "# Subset sizes\n",
        "left_weight = len(y_left) / len(y)\n",
        "right_weight = len(y_right) / len(y)\n"
      ],
      "metadata": {
        "colab": {
          "base_uri": "https://localhost:8080/"
        },
        "id": "U-vn20w1fXlO",
        "outputId": "703e59cc-bc58-4883-a556-d99b73e17206"
      },
      "execution_count": null,
      "outputs": [
        {
          "output_type": "stream",
          "name": "stdout",
          "text": [
            "Entropy Left (<= median): 0.672294817075638\n",
            "Entropy Right (> median): 0.8366407419411673\n"
          ]
        }
      ]
    },
    {
      "cell_type": "code",
      "source": [
        "# Information Gain\n",
        "info_gain = parent_entropy - (left_weight * entropy_left + right_weight * entropy_right)\n",
        "print(f\"Information Gain: {info_gain}\")"
      ],
      "metadata": {
        "colab": {
          "base_uri": "https://localhost:8080/"
        },
        "id": "4oM9Yts5ogSG",
        "outputId": "1568cf12-e6c4-4e40-8b45-23c1b07d86ea"
      },
      "execution_count": null,
      "outputs": [
        {
          "output_type": "stream",
          "name": "stdout",
          "text": [
            "Information Gain: 0.23936743893214252\n"
          ]
        }
      ]
    }
  ]
}